{
 "cells": [
  {
   "cell_type": "markdown",
   "metadata": {},
   "source": [
    "# PROTOTYPE OF FINAL PROJECT"
   ]
  },
  {
   "cell_type": "code",
   "execution_count": 1,
   "metadata": {},
   "outputs": [],
   "source": [
    "#IMPORTS\n",
    "\n",
    "import pandas as pd\n",
    "import datetime\n",
    "import seaborn as sns\n",
    "import requests\n",
    "import os\n",
    "\n",
    "import warnings\n",
    "warnings.filterwarnings('ignore')"
   ]
  },
  {
   "cell_type": "code",
   "execution_count": 2,
   "metadata": {},
   "outputs": [
    {
     "data": {
      "text/html": [
       "<div>\n",
       "<style scoped>\n",
       "    .dataframe tbody tr th:only-of-type {\n",
       "        vertical-align: middle;\n",
       "    }\n",
       "\n",
       "    .dataframe tbody tr th {\n",
       "        vertical-align: top;\n",
       "    }\n",
       "\n",
       "    .dataframe thead th {\n",
       "        text-align: right;\n",
       "    }\n",
       "</style>\n",
       "<table border=\"1\" class=\"dataframe\">\n",
       "  <thead>\n",
       "    <tr style=\"text-align: right;\">\n",
       "      <th></th>\n",
       "      <th>AUD</th>\n",
       "      <th>BGN</th>\n",
       "      <th>BRL</th>\n",
       "      <th>CAD</th>\n",
       "      <th>CHF</th>\n",
       "      <th>CNY</th>\n",
       "      <th>CZK</th>\n",
       "      <th>DKK</th>\n",
       "      <th>EUR</th>\n",
       "      <th>GBP</th>\n",
       "      <th>...</th>\n",
       "      <th>PHP</th>\n",
       "      <th>PLN</th>\n",
       "      <th>RON</th>\n",
       "      <th>RUB</th>\n",
       "      <th>SEK</th>\n",
       "      <th>SGD</th>\n",
       "      <th>THB</th>\n",
       "      <th>TRY</th>\n",
       "      <th>USD</th>\n",
       "      <th>ZAR</th>\n",
       "    </tr>\n",
       "  </thead>\n",
       "  <tbody>\n",
       "    <tr>\n",
       "      <th>0</th>\n",
       "      <td>1.493637</td>\n",
       "      <td>1.867291</td>\n",
       "      <td>5.235649</td>\n",
       "      <td>1.365095</td>\n",
       "      <td>0.942015</td>\n",
       "      <td>6.996148</td>\n",
       "      <td>23.238091</td>\n",
       "      <td>7.106238</td>\n",
       "      <td>0.955433</td>\n",
       "      <td>0.824367</td>\n",
       "      <td>...</td>\n",
       "      <td>55.881227</td>\n",
       "      <td>4.481577</td>\n",
       "      <td>4.695386</td>\n",
       "      <td>60.551458</td>\n",
       "      <td>10.415155</td>\n",
       "      <td>1.358734</td>\n",
       "      <td>35.090356</td>\n",
       "      <td>18.632194</td>\n",
       "      <td>1</td>\n",
       "      <td>17.331527</td>\n",
       "    </tr>\n",
       "  </tbody>\n",
       "</table>\n",
       "<p>1 rows × 33 columns</p>\n",
       "</div>"
      ],
      "text/plain": [
       "        AUD       BGN       BRL       CAD       CHF       CNY        CZK  \\\n",
       "0  1.493637  1.867291  5.235649  1.365095  0.942015  6.996148  23.238091   \n",
       "\n",
       "        DKK       EUR       GBP  ...        PHP       PLN       RON  \\\n",
       "0  7.106238  0.955433  0.824367  ...  55.881227  4.481577  4.695386   \n",
       "\n",
       "         RUB        SEK       SGD        THB        TRY  USD        ZAR  \n",
       "0  60.551458  10.415155  1.358734  35.090356  18.632194    1  17.331527  \n",
       "\n",
       "[1 rows x 33 columns]"
      ]
     },
     "execution_count": 2,
     "metadata": {},
     "output_type": "execute_result"
    }
   ],
   "source": [
    "#GETTING CURRENCY RATES\n",
    "\n",
    "def currency_converter():\n",
    "\n",
    "    APIkey = \"j4YVbY4DsPe2bRdqchwWzvccCljEhg2EhlPyfrEN\"\n",
    "    url = f\"https://api.freecurrencyapi.com/v1/latest?apikey={APIkey}\"\n",
    "    response = requests.get(url).json()\n",
    "    df = pd.DataFrame(response['data'], index=[0])\n",
    "    return df\n",
    "\n",
    "currency_converter()"
   ]
  },
  {
   "cell_type": "code",
   "execution_count": 3,
   "metadata": {},
   "outputs": [
    {
     "data": {
      "text/html": [
       "<div>\n",
       "<style scoped>\n",
       "    .dataframe tbody tr th:only-of-type {\n",
       "        vertical-align: middle;\n",
       "    }\n",
       "\n",
       "    .dataframe tbody tr th {\n",
       "        vertical-align: top;\n",
       "    }\n",
       "\n",
       "    .dataframe thead th {\n",
       "        text-align: right;\n",
       "    }\n",
       "</style>\n",
       "<table border=\"1\" class=\"dataframe\">\n",
       "  <thead>\n",
       "    <tr style=\"text-align: right;\">\n",
       "      <th></th>\n",
       "      <th>value</th>\n",
       "      <th>value_classification</th>\n",
       "      <th>timestamp</th>\n",
       "      <th>time_until_update</th>\n",
       "    </tr>\n",
       "  </thead>\n",
       "  <tbody>\n",
       "    <tr>\n",
       "      <th>0</th>\n",
       "      <td>29</td>\n",
       "      <td>Fear</td>\n",
       "      <td>07-12-2022</td>\n",
       "      <td>-1670315378</td>\n",
       "    </tr>\n",
       "    <tr>\n",
       "      <th>1</th>\n",
       "      <td>25</td>\n",
       "      <td>Extreme Fear</td>\n",
       "      <td>06-12-2022</td>\n",
       "      <td>NaN</td>\n",
       "    </tr>\n",
       "    <tr>\n",
       "      <th>2</th>\n",
       "      <td>26</td>\n",
       "      <td>Fear</td>\n",
       "      <td>05-12-2022</td>\n",
       "      <td>NaN</td>\n",
       "    </tr>\n",
       "    <tr>\n",
       "      <th>3</th>\n",
       "      <td>26</td>\n",
       "      <td>Fear</td>\n",
       "      <td>04-12-2022</td>\n",
       "      <td>NaN</td>\n",
       "    </tr>\n",
       "    <tr>\n",
       "      <th>4</th>\n",
       "      <td>27</td>\n",
       "      <td>Fear</td>\n",
       "      <td>03-12-2022</td>\n",
       "      <td>NaN</td>\n",
       "    </tr>\n",
       "    <tr>\n",
       "      <th>...</th>\n",
       "      <td>...</td>\n",
       "      <td>...</td>\n",
       "      <td>...</td>\n",
       "      <td>...</td>\n",
       "    </tr>\n",
       "    <tr>\n",
       "      <th>1763</th>\n",
       "      <td>11</td>\n",
       "      <td>Extreme Fear</td>\n",
       "      <td>05-02-2018</td>\n",
       "      <td>NaN</td>\n",
       "    </tr>\n",
       "    <tr>\n",
       "      <th>1764</th>\n",
       "      <td>24</td>\n",
       "      <td>Extreme Fear</td>\n",
       "      <td>04-02-2018</td>\n",
       "      <td>NaN</td>\n",
       "    </tr>\n",
       "    <tr>\n",
       "      <th>1765</th>\n",
       "      <td>40</td>\n",
       "      <td>Fear</td>\n",
       "      <td>03-02-2018</td>\n",
       "      <td>NaN</td>\n",
       "    </tr>\n",
       "    <tr>\n",
       "      <th>1766</th>\n",
       "      <td>15</td>\n",
       "      <td>Extreme Fear</td>\n",
       "      <td>02-02-2018</td>\n",
       "      <td>NaN</td>\n",
       "    </tr>\n",
       "    <tr>\n",
       "      <th>1767</th>\n",
       "      <td>30</td>\n",
       "      <td>Fear</td>\n",
       "      <td>01-02-2018</td>\n",
       "      <td>NaN</td>\n",
       "    </tr>\n",
       "  </tbody>\n",
       "</table>\n",
       "<p>1768 rows × 4 columns</p>\n",
       "</div>"
      ],
      "text/plain": [
       "     value value_classification   timestamp time_until_update\n",
       "0       29                 Fear  07-12-2022       -1670315378\n",
       "1       25         Extreme Fear  06-12-2022               NaN\n",
       "2       26                 Fear  05-12-2022               NaN\n",
       "3       26                 Fear  04-12-2022               NaN\n",
       "4       27                 Fear  03-12-2022               NaN\n",
       "...    ...                  ...         ...               ...\n",
       "1763    11         Extreme Fear  05-02-2018               NaN\n",
       "1764    24         Extreme Fear  04-02-2018               NaN\n",
       "1765    40                 Fear  03-02-2018               NaN\n",
       "1766    15         Extreme Fear  02-02-2018               NaN\n",
       "1767    30                 Fear  01-02-2018               NaN\n",
       "\n",
       "[1768 rows x 4 columns]"
      ]
     },
     "execution_count": 3,
     "metadata": {},
     "output_type": "execute_result"
    }
   ],
   "source": [
    "#GETTING FEAR GRID VALUES\n",
    "\n",
    "def fgindex() -> pd.DataFrame:\n",
    "    \"\"\"returns a dataframe of fear and greed index with columns:\n",
    "    [value],[value_classification],[timestamp],[time_until_update] \"\"\"\n",
    "\n",
    "    url = 'https://api.alternative.me/fng/'\n",
    "    params = {'limit':100000,'date_format':'world'}\n",
    "    response = requests.get(url,params).json()\n",
    "    fg = pd.DataFrame(response['data'])\n",
    "    return fg\n",
    "\n",
    "fgindex()"
   ]
  },
  {
   "cell_type": "code",
   "execution_count": 4,
   "metadata": {},
   "outputs": [
    {
     "name": "stdout",
     "output_type": "stream",
     "text": [
      "Requirement already satisfied: Historic-Crypto in /home/strrand/.pyenv/versions/3.10.6/envs/gossips_cryptos/lib/python3.10/site-packages (0.1.6)\n",
      "Requirement already satisfied: requests in /home/strrand/.pyenv/versions/3.10.6/envs/gossips_cryptos/lib/python3.10/site-packages (from Historic-Crypto) (2.28.1)\n",
      "Requirement already satisfied: numpy in /home/strrand/.pyenv/versions/3.10.6/envs/gossips_cryptos/lib/python3.10/site-packages (from Historic-Crypto) (1.23.5)\n",
      "Requirement already satisfied: charset-normalizer<3,>=2 in /home/strrand/.pyenv/versions/3.10.6/envs/gossips_cryptos/lib/python3.10/site-packages (from requests->Historic-Crypto) (2.1.1)\n",
      "Requirement already satisfied: urllib3<1.27,>=1.21.1 in /home/strrand/.pyenv/versions/3.10.6/envs/gossips_cryptos/lib/python3.10/site-packages (from requests->Historic-Crypto) (1.26.13)\n",
      "Requirement already satisfied: idna<4,>=2.5 in /home/strrand/.pyenv/versions/3.10.6/envs/gossips_cryptos/lib/python3.10/site-packages (from requests->Historic-Crypto) (3.4)\n",
      "Requirement already satisfied: certifi>=2017.4.17 in /home/strrand/.pyenv/versions/3.10.6/envs/gossips_cryptos/lib/python3.10/site-packages (from requests->Historic-Crypto) (2022.9.24)\n"
     ]
    }
   ],
   "source": [
    "! pip install Historic-Crypto\n",
    "from Historic_Crypto import HistoricalData"
   ]
  },
  {
   "cell_type": "code",
   "execution_count": 5,
   "metadata": {},
   "outputs": [
    {
     "name": "stdout",
     "output_type": "stream",
     "text": [
      "Provisional Start: 2018-01-31T00:00:00\n",
      "Provisional End: 2018-11-27T00:00:00\n",
      "Provisional Start: 2018-11-27T00:00:00\n",
      "Provisional End: 2019-09-23T00:00:00\n",
      "Provisional Start: 2019-09-23T00:00:00\n",
      "Provisional End: 2020-07-19T00:00:00\n",
      "Provisional Start: 2020-07-19T00:00:00\n",
      "Provisional End: 2021-05-15T00:00:00\n",
      "Provisional Start: 2021-05-15T00:00:00\n",
      "Provisional End: 2022-03-11T00:00:00\n",
      "Provisional Start: 2022-03-11T00:00:00\n",
      "Provisional End: 2023-01-05T00:00:00\n"
     ]
    },
    {
     "data": {
      "text/html": [
       "<div>\n",
       "<style scoped>\n",
       "    .dataframe tbody tr th:only-of-type {\n",
       "        vertical-align: middle;\n",
       "    }\n",
       "\n",
       "    .dataframe tbody tr th {\n",
       "        vertical-align: top;\n",
       "    }\n",
       "\n",
       "    .dataframe thead th {\n",
       "        text-align: right;\n",
       "    }\n",
       "</style>\n",
       "<table border=\"1\" class=\"dataframe\">\n",
       "  <thead>\n",
       "    <tr style=\"text-align: right;\">\n",
       "      <th></th>\n",
       "      <th>low</th>\n",
       "      <th>high</th>\n",
       "      <th>open</th>\n",
       "      <th>close</th>\n",
       "      <th>volume</th>\n",
       "    </tr>\n",
       "    <tr>\n",
       "      <th>time</th>\n",
       "      <th></th>\n",
       "      <th></th>\n",
       "      <th></th>\n",
       "      <th></th>\n",
       "      <th></th>\n",
       "    </tr>\n",
       "  </thead>\n",
       "  <tbody>\n",
       "    <tr>\n",
       "      <th>2018-02-01</th>\n",
       "      <td>8400.00</td>\n",
       "      <td>10166.25</td>\n",
       "      <td>10099.99</td>\n",
       "      <td>9014.23</td>\n",
       "      <td>38171.970034</td>\n",
       "    </tr>\n",
       "    <tr>\n",
       "      <th>2018-02-02</th>\n",
       "      <td>7540.00</td>\n",
       "      <td>9090.08</td>\n",
       "      <td>9014.22</td>\n",
       "      <td>8787.52</td>\n",
       "      <td>52039.268077</td>\n",
       "    </tr>\n",
       "    <tr>\n",
       "      <th>2018-02-03</th>\n",
       "      <td>8115.48</td>\n",
       "      <td>9499.00</td>\n",
       "      <td>8787.52</td>\n",
       "      <td>9240.00</td>\n",
       "      <td>23700.985090</td>\n",
       "    </tr>\n",
       "    <tr>\n",
       "      <th>2018-02-04</th>\n",
       "      <td>7859.00</td>\n",
       "      <td>9350.00</td>\n",
       "      <td>9227.80</td>\n",
       "      <td>8167.91</td>\n",
       "      <td>24062.181957</td>\n",
       "    </tr>\n",
       "    <tr>\n",
       "      <th>2018-02-05</th>\n",
       "      <td>6425.75</td>\n",
       "      <td>8349.16</td>\n",
       "      <td>8167.90</td>\n",
       "      <td>6905.19</td>\n",
       "      <td>59578.698221</td>\n",
       "    </tr>\n",
       "    <tr>\n",
       "      <th>...</th>\n",
       "      <td>...</td>\n",
       "      <td>...</td>\n",
       "      <td>...</td>\n",
       "      <td>...</td>\n",
       "      <td>...</td>\n",
       "    </tr>\n",
       "    <tr>\n",
       "      <th>2022-12-03</th>\n",
       "      <td>16863.58</td>\n",
       "      <td>17158.42</td>\n",
       "      <td>17094.25</td>\n",
       "      <td>16888.53</td>\n",
       "      <td>14081.450672</td>\n",
       "    </tr>\n",
       "    <tr>\n",
       "      <th>2022-12-04</th>\n",
       "      <td>16882.86</td>\n",
       "      <td>17199.99</td>\n",
       "      <td>16889.17</td>\n",
       "      <td>17108.90</td>\n",
       "      <td>16961.108288</td>\n",
       "    </tr>\n",
       "    <tr>\n",
       "      <th>2022-12-05</th>\n",
       "      <td>16865.22</td>\n",
       "      <td>17424.59</td>\n",
       "      <td>17108.90</td>\n",
       "      <td>16966.05</td>\n",
       "      <td>33618.451090</td>\n",
       "    </tr>\n",
       "    <tr>\n",
       "      <th>2022-12-06</th>\n",
       "      <td>16904.04</td>\n",
       "      <td>17111.35</td>\n",
       "      <td>16966.05</td>\n",
       "      <td>17089.05</td>\n",
       "      <td>26693.610117</td>\n",
       "    </tr>\n",
       "    <tr>\n",
       "      <th>2022-12-07</th>\n",
       "      <td>16679.52</td>\n",
       "      <td>17140.22</td>\n",
       "      <td>17089.18</td>\n",
       "      <td>16795.82</td>\n",
       "      <td>8068.075384</td>\n",
       "    </tr>\n",
       "  </tbody>\n",
       "</table>\n",
       "<p>1771 rows × 5 columns</p>\n",
       "</div>"
      ],
      "text/plain": [
       "                 low      high      open     close        volume\n",
       "time                                                            \n",
       "2018-02-01   8400.00  10166.25  10099.99   9014.23  38171.970034\n",
       "2018-02-02   7540.00   9090.08   9014.22   8787.52  52039.268077\n",
       "2018-02-03   8115.48   9499.00   8787.52   9240.00  23700.985090\n",
       "2018-02-04   7859.00   9350.00   9227.80   8167.91  24062.181957\n",
       "2018-02-05   6425.75   8349.16   8167.90   6905.19  59578.698221\n",
       "...              ...       ...       ...       ...           ...\n",
       "2022-12-03  16863.58  17158.42  17094.25  16888.53  14081.450672\n",
       "2022-12-04  16882.86  17199.99  16889.17  17108.90  16961.108288\n",
       "2022-12-05  16865.22  17424.59  17108.90  16966.05  33618.451090\n",
       "2022-12-06  16904.04  17111.35  16966.05  17089.05  26693.610117\n",
       "2022-12-07  16679.52  17140.22  17089.18  16795.82   8068.075384\n",
       "\n",
       "[1771 rows x 5 columns]"
      ]
     },
     "execution_count": 5,
     "metadata": {},
     "output_type": "execute_result"
    }
   ],
   "source": [
    "#GETTING CLOSING PRICES OF CRYPTO CURRENCY\n",
    "\n",
    "crypto = 'BTC'\n",
    "\n",
    "def prices(crypto)-> pd.DataFrame:\n",
    "\n",
    "    today = datetime.datetime.today().strftime('%Y-%m-%d')\n",
    "    crypto_df = HistoricalData(f'{crypto}-USD',86400,'2018-01-31-00-00',f\"{today}-00-00\",verbose = False).retrieve_data()\n",
    "    return crypto_df\n",
    "\n",
    "prices(crypto)"
   ]
  },
  {
   "cell_type": "code",
   "execution_count": 6,
   "metadata": {},
   "outputs": [
    {
     "name": "stdout",
     "output_type": "stream",
     "text": [
      "Provisional Start: 2018-01-31T00:00:00\n",
      "Provisional End: 2018-11-27T00:00:00\n",
      "Provisional Start: 2018-11-27T00:00:00\n",
      "Provisional End: 2019-09-23T00:00:00\n",
      "Provisional Start: 2019-09-23T00:00:00\n",
      "Provisional End: 2020-07-19T00:00:00\n",
      "Provisional Start: 2020-07-19T00:00:00\n",
      "Provisional End: 2021-05-15T00:00:00\n",
      "Provisional Start: 2021-05-15T00:00:00\n",
      "Provisional End: 2022-03-11T00:00:00\n",
      "Provisional Start: 2022-03-11T00:00:00\n",
      "Provisional End: 2023-01-05T00:00:00\n"
     ]
    }
   ],
   "source": [
    "def data_cleaning(crypto = 'BTC'):\n",
    "    '''The function returns a dataframe containing:\n",
    "    price: the historical crypto price\n",
    "    index: the Grid/fear index value\n",
    "    '''\n",
    "    #cleaning the price data\n",
    "\n",
    "    BTC_USD = prices(crypto)\n",
    "    BTC_USD= BTC_USD['close']\n",
    "\n",
    "    #cleaning the sentiment data\n",
    "    sentiment_data = fgindex()\n",
    "    sentiment_data['timestamp'] = pd.to_datetime(sentiment_data['timestamp'])\n",
    "    sentiment_data['value'] = sentiment_data['value'].astype('float')\n",
    "    fg= pd.DataFrame(sentiment_data[['value', 'timestamp']])\n",
    "    fg.set_index('timestamp', inplace=True)\n",
    "\n",
    "\n",
    "    #merging the price and sentiment data\n",
    "    df = fg.join(BTC_USD)\n",
    "\n",
    "    #cleaning the merged dataframe\n",
    "    df.dropna(inplace=True)\n",
    "    df.rename(columns = {'close': 'price', 'value': 'index'}, inplace = True)\n",
    "\n",
    "    return df\n",
    "\n",
    "df = data_cleaning()"
   ]
  },
  {
   "cell_type": "code",
   "execution_count": 7,
   "metadata": {},
   "outputs": [],
   "source": [
    "# This function accepts the column number for the features (X) and the target (y)\n",
    "# It chunks the data up with a rolling window of Xt-n to predict Xt\n",
    "# It returns a numpy array of X any y\n",
    "import numpy as np\n",
    "\n",
    "def window_data(df, window, feature_col_number, target_col_number):\n",
    "    X = []\n",
    "    y = []\n",
    "    for i in range(len(df) - window - 1):\n",
    "        features = df.iloc[i:(i + window), feature_col_number]\n",
    "        target = df.iloc[(i + window), target_col_number]\n",
    "        X.append(features)\n",
    "        y.append(target)\n",
    "    return np.array(X), np.array(y).reshape(-1, 1)"
   ]
  },
  {
   "cell_type": "code",
   "execution_count": 8,
   "metadata": {},
   "outputs": [],
   "source": [
    "\n",
    "# Predict Closing Prices using a 10 day window of fear and greed index values and a target of the 11th day closing price\n",
    "# Try a window size anywhere from 1 to 10 and see how the model performance changes\n",
    "window_size = 10\n",
    "\n",
    "# Column index 1 is the `Close` column\n",
    "feature_column = 0\n",
    "target_column = 1\n",
    "X, y = window_data(df, window_size, feature_column, target_column)"
   ]
  },
  {
   "cell_type": "code",
   "execution_count": 9,
   "metadata": {},
   "outputs": [],
   "source": [
    "# Use 70% of the data for training and the remainder for testing\n",
    "\n",
    "# x split\n",
    "split = int(.7 * len(X))\n",
    "X_train = X[:split - 1]\n",
    "X_test = X[split:]\n",
    "\n",
    "# y split\n",
    "y_train = y[:split - 1]\n",
    "y_test = y[split:]"
   ]
  },
  {
   "cell_type": "code",
   "execution_count": 10,
   "metadata": {},
   "outputs": [
    {
     "data": {
      "text/plain": [
       "index    float64\n",
       "price    float64\n",
       "dtype: object"
      ]
     },
     "execution_count": 10,
     "metadata": {},
     "output_type": "execute_result"
    }
   ],
   "source": [
    "df.dtypes"
   ]
  },
  {
   "cell_type": "code",
   "execution_count": 11,
   "metadata": {},
   "outputs": [
    {
     "data": {
      "image/png": "[encoded data removed]",
      "text/plain": [
       "<Figure size 640x480 with 1 Axes>"
      ]
     },
     "metadata": {},
     "output_type": "display_data"
    }
   ],
   "source": [
    "import matplotlib.pyplot as plt\n",
    "import seaborn as sns\n",
    "\n",
    "boxplot = df.boxplot(column=['price'])\n"
   ]
  },
  {
   "cell_type": "code",
   "execution_count": 12,
   "metadata": {},
   "outputs": [
    {
     "data": {
      "image/png": "[encoded data removed]",
      "text/plain": [
       "<Figure size 640x480 with 1 Axes>"
      ]
     },
     "metadata": {},
     "output_type": "display_data"
    }
   ],
   "source": [
    "histogram = df.hist(column=['price'])\n",
    "plt.show()"
   ]
  },
  {
   "cell_type": "code",
   "execution_count": 13,
   "metadata": {},
   "outputs": [],
   "source": [
    "# Use MinMaxScaler to scale the data between 0 and 1\n",
    "from sklearn.preprocessing import RobustScaler\n",
    "scaler = RobustScaler()\n",
    "scaler.fit(X_train)\n",
    "X_train = scaler.transform(X_train)\n",
    "X_test = scaler.transform(X_test)\n",
    "scaler.fit(y_train)\n",
    "y_train = scaler.transform(y_train)\n",
    "y_test = scaler.transform(y_test)"
   ]
  },
  {
   "cell_type": "code",
   "execution_count": 14,
   "metadata": {},
   "outputs": [
    {
     "data": {
      "text/plain": [
       "(1218, 10)"
      ]
     },
     "execution_count": 14,
     "metadata": {},
     "output_type": "execute_result"
    }
   ],
   "source": [
    "X_train.shape"
   ]
  },
  {
   "cell_type": "code",
   "execution_count": 15,
   "metadata": {},
   "outputs": [],
   "source": [
    "# Reshape the features for the model\n",
    "X_train = X_train.reshape((X_train.shape[0], X_train.shape[1], 1))\n",
    "X_test = X_test.reshape((X_test.shape[0], X_test.shape[1], 1))\n"
   ]
  },
  {
   "cell_type": "code",
   "execution_count": 16,
   "metadata": {},
   "outputs": [
    {
     "data": {
      "text/plain": [
       "(1218, 10, 1)"
      ]
     },
     "execution_count": 16,
     "metadata": {},
     "output_type": "execute_result"
    }
   ],
   "source": [
    "X_train.shape"
   ]
  },
  {
   "cell_type": "code",
   "execution_count": null,
   "metadata": {},
   "outputs": [],
   "source": []
  },
  {
   "cell_type": "code",
   "execution_count": null,
   "metadata": {},
   "outputs": [],
   "source": []
  }
 ],
 "metadata": {
  "kernelspec": {
   "display_name": "Python 3.10.6 64-bit ('gossips_cryptos')",
   "language": "python",
   "name": "python3"
  },
  "language_info": {
   "codemirror_mode": {
    "name": "ipython",
    "version": 3
   },
   "file_extension": ".py",
   "mimetype": "text/x-python",
   "name": "python",
   "nbconvert_exporter": "python",
   "pygments_lexer": "ipython3",
   "version": "3.10.6"
  },
  "orig_nbformat": 4,
  "vscode": {
   "interpreter": {
    "hash": "ffef9a63c888f14363dc4c7ae81e50909dc3368a2b60aa838629fefde3fb7277"
   }
  }
 },
 "nbformat": 4,
 "nbformat_minor": 2
}
