{
 "cells": [
  {
   "cell_type": "markdown",
   "metadata": {},
   "source": [
    "# PROTOTYPE OF FINAL PROJECT"
   ]
  },
  {
   "cell_type": "code",
   "execution_count": 10,
   "metadata": {},
   "outputs": [],
   "source": [
    "#IMPORTS\n",
    "\n",
    "import pandas as pd\n",
    "import datetime\n",
    "import seaborn as sns\n",
    "import requests\n",
    "import os\n",
    "import warnings\n",
    "warnings.filterwarnings('ignore')"
    "from sklearn.preprocessing import  StandardScaler\n",
    "import os"
   ]
  },
  {
   "cell_type": "code",
   "execution_count": 11,
   "metadata": {},
   "outputs": [
    {
     "data": {
      "text/html": [
       "<div>\n",
       "<style scoped>\n",
       "    .dataframe tbody tr th:only-of-type {\n",
       "        vertical-align: middle;\n",
       "    }\n",
       "\n",
       "    .dataframe tbody tr th {\n",
       "        vertical-align: top;\n",
       "    }\n",
       "\n",
       "    .dataframe thead th {\n",
       "        text-align: right;\n",
       "    }\n",
       "</style>\n",
       "<table border=\"1\" class=\"dataframe\">\n",
       "  <thead>\n",
       "    <tr style=\"text-align: right;\">\n",
       "      <th></th>\n",
       "      <th>AUD</th>\n",
       "      <th>BGN</th>\n",
       "      <th>BRL</th>\n",
       "      <th>CAD</th>\n",
       "      <th>CHF</th>\n",
       "      <th>CNY</th>\n",
       "      <th>CZK</th>\n",
       "      <th>DKK</th>\n",
       "      <th>EUR</th>\n",
       "      <th>GBP</th>\n",
       "      <th>...</th>\n",
       "      <th>PHP</th>\n",
       "      <th>PLN</th>\n",
       "      <th>RON</th>\n",
       "      <th>RUB</th>\n",
       "      <th>SEK</th>\n",
       "      <th>SGD</th>\n",
       "      <th>THB</th>\n",
       "      <th>TRY</th>\n",
       "      <th>USD</th>\n",
       "      <th>ZAR</th>\n",
       "    </tr>\n",
       "  </thead>\n",
       "  <tbody>\n",
       "    <tr>\n",
       "      <th>0</th>\n",
       "      <td>1.493637</td>\n",
       "      <td>1.867291</td>\n",
       "      <td>5.235649</td>\n",
       "      <td>1.365095</td>\n",
       "      <td>0.942015</td>\n",
       "      <td>6.996148</td>\n",
       "      <td>23.238091</td>\n",
       "      <td>7.106238</td>\n",
       "      <td>0.955433</td>\n",
       "      <td>0.824367</td>\n",
       "      <td>...</td>\n",
       "      <td>55.881227</td>\n",
       "      <td>4.481577</td>\n",
       "      <td>4.695386</td>\n",
       "      <td>60.551458</td>\n",
       "      <td>10.415155</td>\n",
       "      <td>1.358734</td>\n",
       "      <td>35.090356</td>\n",
       "      <td>18.632194</td>\n",
       "      <td>1</td>\n",
       "      <td>17.331527</td>\n",
       "    </tr>\n",
       "  </tbody>\n",
       "</table>\n",
       "<p>1 rows × 33 columns</p>\n",
       "</div>"
      ],
      "text/plain": [
       "        AUD       BGN       BRL       CAD       CHF       CNY        CZK  \\\n",
       "0  1.493637  1.867291  5.235649  1.365095  0.942015  6.996148  23.238091   \n",
       "\n",
       "        DKK       EUR       GBP  ...        PHP       PLN       RON  \\\n",
       "0  7.106238  0.955433  0.824367  ...  55.881227  4.481577  4.695386   \n",
       "\n",
       "         RUB        SEK       SGD        THB        TRY  USD        ZAR  \n",
       "0  60.551458  10.415155  1.358734  35.090356  18.632194    1  17.331527  \n",
       "\n",
       "[1 rows x 33 columns]"
      ]
     },
     "execution_count": 11,
     "metadata": {},
     "output_type": "execute_result"
    }
   ],
   "source": [
    "#GETTING CURRENCY RATES\n",
    "\n",
    "def currency_converter():\n",
    "\n",
    "    APIkey = \"j4YVbY4DsPe2bRdqchwWzvccCljEhg2EhlPyfrEN\"\n",
    "    url = f\"https://api.freecurrencyapi.com/v1/latest?apikey={APIkey}\"\n",
    "    response = requests.get(url).json()\n",
    "    df = pd.DataFrame(response['data'], index=[0])\n",
    "    return df\n",
    "\n",
    "currency_converter()"
   ]
  },
  {
   "cell_type": "code",
   "execution_count": 12,
   "metadata": {},
   "outputs": [
    {
     "data": {
      "text/html": [
       "<div>\n",
       "<style scoped>\n",
       "    .dataframe tbody tr th:only-of-type {\n",
       "        vertical-align: middle;\n",
       "    }\n",
       "\n",
       "    .dataframe tbody tr th {\n",
       "        vertical-align: top;\n",
       "    }\n",
       "\n",
       "    .dataframe thead th {\n",
       "        text-align: right;\n",
       "    }\n",
       "</style>\n",
       "<table border=\"1\" class=\"dataframe\">\n",
       "  <thead>\n",
       "    <tr style=\"text-align: right;\">\n",
       "      <th></th>\n",
       "      <th>value</th>\n",
       "      <th>value_classification</th>\n",
       "      <th>timestamp</th>\n",
       "      <th>time_until_update</th>\n",
       "    </tr>\n",
       "  </thead>\n",
       "  <tbody>\n",
       "    <tr>\n",
       "      <th>0</th>\n",
       "      <td>29</td>\n",
       "      <td>Fear</td>\n",
       "      <td>07-12-2022</td>\n",
       "      <td>-1670312766</td>\n",
       "    </tr>\n",
       "    <tr>\n",
       "      <th>1</th>\n",
       "      <td>25</td>\n",
       "      <td>Extreme Fear</td>\n",
       "      <td>06-12-2022</td>\n",
       "      <td>NaN</td>\n",
       "    </tr>\n",
       "    <tr>\n",
       "      <th>2</th>\n",
       "      <td>26</td>\n",
       "      <td>Fear</td>\n",
       "      <td>05-12-2022</td>\n",
       "      <td>NaN</td>\n",
       "    </tr>\n",
       "    <tr>\n",
       "      <th>3</th>\n",
       "      <td>26</td>\n",
       "      <td>Fear</td>\n",
       "      <td>04-12-2022</td>\n",
       "      <td>NaN</td>\n",
       "    </tr>\n",
       "    <tr>\n",
       "      <th>4</th>\n",
       "      <td>27</td>\n",
       "      <td>Fear</td>\n",
       "      <td>03-12-2022</td>\n",
       "      <td>NaN</td>\n",
       "    </tr>\n",
       "    <tr>\n",
       "      <th>...</th>\n",
       "      <td>...</td>\n",
       "      <td>...</td>\n",
       "      <td>...</td>\n",
       "      <td>...</td>\n",
       "    </tr>\n",
       "    <tr>\n",
       "      <th>1763</th>\n",
       "      <td>11</td>\n",
       "      <td>Extreme Fear</td>\n",
       "      <td>05-02-2018</td>\n",
       "      <td>NaN</td>\n",
       "    </tr>\n",
       "    <tr>\n",
       "      <th>1764</th>\n",
       "      <td>24</td>\n",
       "      <td>Extreme Fear</td>\n",
       "      <td>04-02-2018</td>\n",
       "      <td>NaN</td>\n",
       "    </tr>\n",
       "    <tr>\n",
       "      <th>1765</th>\n",
       "      <td>40</td>\n",
       "      <td>Fear</td>\n",
       "      <td>03-02-2018</td>\n",
       "      <td>NaN</td>\n",
       "    </tr>\n",
       "    <tr>\n",
       "      <th>1766</th>\n",
       "      <td>15</td>\n",
       "      <td>Extreme Fear</td>\n",
       "      <td>02-02-2018</td>\n",
       "      <td>NaN</td>\n",
       "    </tr>\n",
       "    <tr>\n",
       "      <th>1767</th>\n",
       "      <td>30</td>\n",
       "      <td>Fear</td>\n",
       "      <td>01-02-2018</td>\n",
       "      <td>NaN</td>\n",
       "    </tr>\n",
       "  </tbody>\n",
       "</table>\n",
       "<p>1768 rows × 4 columns</p>\n",
       "</div>"
      ],
      "text/plain": [
       "     value value_classification   timestamp time_until_update\n",
       "0       29                 Fear  07-12-2022       -1670312766\n",
       "1       25         Extreme Fear  06-12-2022               NaN\n",
       "2       26                 Fear  05-12-2022               NaN\n",
       "3       26                 Fear  04-12-2022               NaN\n",
       "4       27                 Fear  03-12-2022               NaN\n",
       "...    ...                  ...         ...               ...\n",
       "1763    11         Extreme Fear  05-02-2018               NaN\n",
       "1764    24         Extreme Fear  04-02-2018               NaN\n",
       "1765    40                 Fear  03-02-2018               NaN\n",
       "1766    15         Extreme Fear  02-02-2018               NaN\n",
       "1767    30                 Fear  01-02-2018               NaN\n",
       "\n",
       "[1768 rows x 4 columns]"
      ]
     },
     "execution_count": 12,
     "metadata": {},
     "output_type": "execute_result"
    }
   ],
   "source": [
    "#GETTING FEAR GRID VALUES\n",
    "\n",
    "def fgindex() -> pd.DataFrame:\n",
    "    \"\"\"returns a dataframe of fear and greed index with columns:\n",
    "    [value],[value_classification],[timestamp],[time_until_update] \"\"\"\n",
    "\n",
    "    url = 'https://api.alternative.me/fng/'\n",
    "    params = {'limit':100000,'date_format':'world'}\n",
    "    response = requests.get(url,params).json()\n",
    "    fg = pd.DataFrame(response['data'])\n",
    "    return fg\n",
    "\n",
    "fgindex()"
   ]
  },
  {
   "cell_type": "code",
   "execution_count": 13,
   "metadata": {},
   "outputs": [
    {
     "name": "stdout",
     "output_type": "stream",
     "text": [
      "Requirement already satisfied: Historic-Crypto in /home/strrand/.pyenv/versions/3.10.6/envs/lewagon/lib/python3.10/site-packages (0.1.6)\n",
      "Requirement already satisfied: numpy in /home/strrand/.pyenv/versions/3.10.6/envs/lewagon/lib/python3.10/site-packages (from Historic-Crypto) (1.23.4)\n",
      "Requirement already satisfied: requests in /home/strrand/.pyenv/versions/3.10.6/envs/lewagon/lib/python3.10/site-packages (from Historic-Crypto) (2.28.1)\n",
      "Requirement already satisfied: urllib3<1.27,>=1.21.1 in /home/strrand/.pyenv/versions/3.10.6/envs/lewagon/lib/python3.10/site-packages (from requests->Historic-Crypto) (1.26.12)\n",
      "Requirement already satisfied: certifi>=2017.4.17 in /home/strrand/.pyenv/versions/3.10.6/envs/lewagon/lib/python3.10/site-packages (from requests->Historic-Crypto) (2022.9.24)\n",
      "Requirement already satisfied: charset-normalizer<3,>=2 in /home/strrand/.pyenv/versions/3.10.6/envs/lewagon/lib/python3.10/site-packages (from requests->Historic-Crypto) (2.1.1)\n",
      "Requirement already satisfied: idna<4,>=2.5 in /home/strrand/.pyenv/versions/3.10.6/envs/lewagon/lib/python3.10/site-packages (from requests->Historic-Crypto) (3.4)\n"
     ]
    }
   ],
   "source": [
    "! pip install Historic-Crypto\n",
    "from Historic_Crypto import HistoricalData"
   ]
  },
  {
   "cell_type": "code",
   "execution_count": 14,
   "metadata": {},
   "outputs": [
    {
     "name": "stdout",
     "output_type": "stream",
     "text": [
      "Provisional Start: 2018-01-31T00:00:00\n",
      "Provisional End: 2018-11-27T00:00:00\n",
      "Provisional Start: 2018-11-27T00:00:00\n",
      "Provisional End: 2019-09-23T00:00:00\n",
      "Provisional Start: 2019-09-23T00:00:00\n",
      "Provisional End: 2020-07-19T00:00:00\n",
      "Provisional Start: 2020-07-19T00:00:00\n",
      "Provisional End: 2021-05-15T00:00:00\n",
      "Provisional Start: 2021-05-15T00:00:00\n",
      "Provisional End: 2022-03-11T00:00:00\n",
      "Provisional Start: 2022-03-11T00:00:00\n",
      "Provisional End: 2023-01-05T00:00:00\n"
     ]
    },
    {
     "data": {
      "text/html": [
       "<div>\n",
       "<style scoped>\n",
       "    .dataframe tbody tr th:only-of-type {\n",
       "        vertical-align: middle;\n",
       "    }\n",
       "\n",
       "    .dataframe tbody tr th {\n",
       "        vertical-align: top;\n",
       "    }\n",
       "\n",
       "    .dataframe thead th {\n",
       "        text-align: right;\n",
       "    }\n",
       "</style>\n",
       "<table border=\"1\" class=\"dataframe\">\n",
       "  <thead>\n",
       "    <tr style=\"text-align: right;\">\n",
       "      <th></th>\n",
       "      <th>low</th>\n",
       "      <th>high</th>\n",
       "      <th>open</th>\n",
       "      <th>close</th>\n",
       "      <th>volume</th>\n",
       "    </tr>\n",
       "    <tr>\n",
       "      <th>time</th>\n",
       "      <th></th>\n",
       "      <th></th>\n",
       "      <th></th>\n",
       "      <th></th>\n",
       "      <th></th>\n",
       "    </tr>\n",
       "  </thead>\n",
       "  <tbody>\n",
       "    <tr>\n",
       "      <th>2018-02-01</th>\n",
       "      <td>8400.00</td>\n",
       "      <td>10166.25</td>\n",
       "      <td>10099.99</td>\n",
       "      <td>9014.23</td>\n",
       "      <td>38171.970034</td>\n",
       "    </tr>\n",
       "    <tr>\n",
       "      <th>2018-02-02</th>\n",
       "      <td>7540.00</td>\n",
       "      <td>9090.08</td>\n",
       "      <td>9014.22</td>\n",
       "      <td>8787.52</td>\n",
       "      <td>52039.268077</td>\n",
       "    </tr>\n",
       "    <tr>\n",
       "      <th>2018-02-03</th>\n",
       "      <td>8115.48</td>\n",
       "      <td>9499.00</td>\n",
       "      <td>8787.52</td>\n",
       "      <td>9240.00</td>\n",
       "      <td>23700.985090</td>\n",
       "    </tr>\n",
       "    <tr>\n",
       "      <th>2018-02-04</th>\n",
       "      <td>7859.00</td>\n",
       "      <td>9350.00</td>\n",
       "      <td>9227.80</td>\n",
       "      <td>8167.91</td>\n",
       "      <td>24062.181957</td>\n",
       "    </tr>\n",
       "    <tr>\n",
       "      <th>2018-02-05</th>\n",
       "      <td>6425.75</td>\n",
       "      <td>8349.16</td>\n",
       "      <td>8167.90</td>\n",
       "      <td>6905.19</td>\n",
       "      <td>59578.698221</td>\n",
       "    </tr>\n",
       "    <tr>\n",
       "      <th>...</th>\n",
       "      <td>...</td>\n",
       "      <td>...</td>\n",
       "      <td>...</td>\n",
       "      <td>...</td>\n",
       "      <td>...</td>\n",
       "    </tr>\n",
       "    <tr>\n",
       "      <th>2022-12-03</th>\n",
       "      <td>16863.58</td>\n",
       "      <td>17158.42</td>\n",
       "      <td>17094.25</td>\n",
       "      <td>16888.53</td>\n",
       "      <td>14081.450672</td>\n",
       "    </tr>\n",
       "    <tr>\n",
       "      <th>2022-12-04</th>\n",
       "      <td>16882.86</td>\n",
       "      <td>17199.99</td>\n",
       "      <td>16889.17</td>\n",
       "      <td>17108.90</td>\n",
       "      <td>16961.108288</td>\n",
       "    </tr>\n",
       "    <tr>\n",
       "      <th>2022-12-05</th>\n",
       "      <td>16865.22</td>\n",
       "      <td>17424.59</td>\n",
       "      <td>17108.90</td>\n",
       "      <td>16966.05</td>\n",
       "      <td>33618.451090</td>\n",
       "    </tr>\n",
       "    <tr>\n",
       "      <th>2022-12-06</th>\n",
       "      <td>16904.04</td>\n",
       "      <td>17111.35</td>\n",
       "      <td>16966.05</td>\n",
       "      <td>17089.05</td>\n",
       "      <td>26693.610117</td>\n",
       "    </tr>\n",
       "    <tr>\n",
       "      <th>2022-12-07</th>\n",
       "      <td>16728.82</td>\n",
       "      <td>17140.22</td>\n",
       "      <td>17089.18</td>\n",
       "      <td>16765.10</td>\n",
       "      <td>6492.361254</td>\n",
       "    </tr>\n",
       "  </tbody>\n",
       "</table>\n",
       "<p>1771 rows × 5 columns</p>\n",
       "</div>"
      ],
      "text/plain": [
       "                 low      high      open     close        volume\n",
       "time                                                            \n",
       "2018-02-01   8400.00  10166.25  10099.99   9014.23  38171.970034\n",
       "2018-02-02   7540.00   9090.08   9014.22   8787.52  52039.268077\n",
       "2018-02-03   8115.48   9499.00   8787.52   9240.00  23700.985090\n",
       "2018-02-04   7859.00   9350.00   9227.80   8167.91  24062.181957\n",
       "2018-02-05   6425.75   8349.16   8167.90   6905.19  59578.698221\n",
       "...              ...       ...       ...       ...           ...\n",
       "2022-12-03  16863.58  17158.42  17094.25  16888.53  14081.450672\n",
       "2022-12-04  16882.86  17199.99  16889.17  17108.90  16961.108288\n",
       "2022-12-05  16865.22  17424.59  17108.90  16966.05  33618.451090\n",
       "2022-12-06  16904.04  17111.35  16966.05  17089.05  26693.610117\n",
       "2022-12-07  16728.82  17140.22  17089.18  16765.10   6492.361254\n",
       "\n",
       "[1771 rows x 5 columns]"
      ]
     },
     "execution_count": 14,
     "metadata": {},
     "output_type": "execute_result"
    }
   ],
   "source": [
    "#GETTING CLOSING PRICES OF CRYPTO CURRENCY\n",
    "\n",
    "crypto = 'BTC'\n",
    "\n",
    "def prices(crypto)-> pd.DataFrame:\n",
    "\n",
    "    today = datetime.datetime.today().strftime('%Y-%m-%d')\n",
    "    crypto_df = HistoricalData(f'{crypto}-USD',86400,'2018-01-31-00-00',f\"{today}-00-00\",verbose = False).retrieve_data()\n",
    "    return crypto_df\n",
    "\n",
    "prices(crypto)"
   ]
  },
  {
   "cell_type": "code",
   "execution_count": 15,
   "metadata": {},
   "outputs": [
    {
     "name": "stdout",
     "output_type": "stream",
     "text": [
      "Provisional Start: 2018-01-31T00:00:00\n",
      "Provisional End: 2018-11-27T00:00:00\n",
      "Provisional Start: 2018-11-27T00:00:00\n",
      "Provisional End: 2019-09-23T00:00:00\n",
      "Provisional Start: 2019-09-23T00:00:00\n",
      "Provisional End: 2020-07-19T00:00:00\n",
      "Provisional Start: 2020-07-19T00:00:00\n",
      "Provisional End: 2021-05-15T00:00:00\n",
      "Provisional Start: 2021-05-15T00:00:00\n",
      "Provisional End: 2022-03-11T00:00:00\n",
      "Provisional Start: 2022-03-11T00:00:00\n",
      "Provisional End: 2023-01-05T00:00:00\n"
     ]
    }
   ],
   "source": [
    "def data_cleaning(crypto = 'BTC'):\n",
    "    '''The function returns a dataframe containing:\n",
    "    price: the historical crypto price\n",
    "    index: the Grid/fear index value\n",
    "    '''\n",
    "    #cleaning the price data\n",
    "\n",
    "    BTC_USD = prices(crypto)\n",
    "    BTC_USD= BTC_USD['close']\n",
    "\n",
    "    #cleaning the sentiment data\n",
    "    sentiment_data = fgindex()\n",
    "    sentiment_data['timestamp'] = pd.to_datetime(sentiment_data['timestamp'])\n",
    "    sentiment_data['value'] = sentiment_data['value'].astype('float')\n",
    "    fg= pd.DataFrame(sentiment_data[['value', 'timestamp']])\n",
    "    fg.set_index('timestamp', inplace=True)\n",
    "\n",
    "\n",
    "    #merging the price and sentiment data\n",
    "    df = fg.join(BTC_USD)\n",
    "\n",
    "    #cleaning the merged dataframe\n",
    "    df.dropna(inplace=True)\n",
    "    df.rename(columns = {'close': 'price', 'value': 'index'}, inplace = True)\n",
    "\n",
    "    return df\n",
    "\n",
    "df = data_cleaning()"
   ]
  },
  {
   "cell_type": "code",
   "execution_count": 16,
   "metadata": {},
   "outputs": [],
   "source": [
    "# This function accepts the column number for the features (X) and the target (y)\n",
    "# It chunks the data up with a rolling window of Xt-n to predict Xt\n",
    "# It returns a numpy array of X any y\n",
    "import numpy as np\n",
    "\n",
    "def window_data(df, window, feature_col_number, target_col_number):\n",
    "    X = []\n",
    "    y = []\n",
    "    for i in range(len(df) - window - 1):\n",
    "        features = df.iloc[i:(i + window), feature_col_number]\n",
    "        target = df.iloc[(i + window), target_col_number]\n",
    "        X.append(features)\n",
    "        y.append(target)\n",
    "    return np.array(X), np.array(y).reshape(-1, 1)"
   ]
  },
  {
   "cell_type": "code",
   "execution_count": 17,
   "metadata": {},
   "outputs": [],
   "source": [
    "\n",
    "# Predict Closing Prices using a 10 day window of fear and greed index values and a target of the 11th day closing price\n",
    "# Try a window size anywhere from 1 to 10 and see how the model performance changes\n",
    "window_size = 10\n",
    "\n",
    "# Column index 1 is the `Close` column\n",
    "feature_column = 0\n",
    "target_column = 1\n",
    "X, y = window_data(df, window_size, feature_column, target_column)"
   ]
  },
  {
   "cell_type": "code",
   "execution_count": 18,
   "metadata": {},
   "outputs": [],
   "source": [
    "# Use 70% of the data for training and the remainder for testing\n",
    "\n",
    "# x split\n",
    "split = int(.7 * len(X))\n",
    "X_train = X[:split - 1]\n",
    "X_test = X[split:]\n",
    "\n",
    "# y split\n",
    "y_train = y[:split - 1]\n",
    "y_test = y[split:]"
   ]
  },
  {
   "cell_type": "code",
   "execution_count": 19,
   "metadata": {},
   "outputs": [
    {
     "data": {
      "text/plain": [
       "index    float64\n",
       "price    float64\n",
       "dtype: object"
      ]
     },
     "execution_count": 19,
     "metadata": {},
     "output_type": "execute_result"
    }
   ],
   "source": [
    "df.dtypes"
   ]
  },
  {
   "cell_type": "code",
   "execution_count": 20,
   "metadata": {},
   "outputs": [
    {
     "data": {
      "image/png": "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",
      "text/plain": [
       "<Figure size 640x480 with 1 Axes>"
      ]
     },
     "metadata": {},
     "output_type": "display_data"
    }
   ],
   "source": [
    "import matplotlib.pyplot as plt\n",
    "import seaborn as sns\n",
    "\n",
    "boxplot = df.boxplot(column=['price'])\n"
   ]
  },
  {
   "cell_type": "code",
   "execution_count": 21,
   "metadata": {},
   "outputs": [],
   "source": [
    "# Use MinMaxScaler to scale the data between 0 and 1\n",
    "from sklearn.preprocessing import  StandardScaler, MinMaxScaler\n",
    "scaler = StandardScaler()\n",
    "scaler.fit(X_train)\n",
    "X_train = scaler.transform(X_train)\n",
    "X_test = scaler.transform(X_test)\n",
    "scaler.fit(y_train)\n",
    "y_train = scaler.transform(y_train)\n",
    "y_test = scaler.transform(y_test)"
   ]
  },
  {
   "cell_type": "code",
   "execution_count": 22,
   "metadata": {},
   "outputs": [
    {
     "data": {
      "text/plain": [
       "(1218, 10)"
      ]
     },
     "execution_count": 22,
     "metadata": {},
     "output_type": "execute_result"
    }
   ],
   "source": [
    "X_train.shape"
   ]
  },
  {
   "cell_type": "code",
   "execution_count": 23,
   "metadata": {},
   "outputs": [],
   "source": [
    "# Reshape the features for the model\n",
    "X_train = X_train.reshape((X_train.shape[0], X_train.shape[1], 1))\n",
    "X_test = X_test.reshape((X_test.shape[0], X_test.shape[1], 1))\n"
   ]
  },
  {
   "cell_type": "code",
   "execution_count": 24,
   "metadata": {},
   "outputs": [
    {
     "data": {
      "text/plain": [
       "(1218, 10, 1)"
      ]
     },
     "execution_count": 24,
     "metadata": {},
     "output_type": "execute_result"
    }
   ],
   "source": [
    "X_train.shape"
   ]
  },
  {
   "cell_type": "markdown",
   "metadata": {},
   "source": [
    "From Challenge `predict temperature` \n",
    "\n",
    "![image.png](attachment:image.png)"
   ]
  },
  {
   "cell_type": "code",
   "execution_count": null,
   "metadata": {},
   "outputs": [],
   "source": [
    "histogram = df.hist(column=['price'])\n",
    "plt.show()"
   ]
  },
  {
   "cell_type": "markdown",
   "metadata": {},
   "source": [
    " ## Formulas to export to preprocess.py"
   ]
  },
  {
   "cell_type": "code",
   "execution_count": null,
   "metadata": {},
   "outputs": [],
   "source": [
    "def window_data(crypto='BTC',window=10):\n",
    "    \"\"\"returns two arrays:\n",
    "    X : Array of lists. Each list contains n_window observations of features.\n",
    "    y: Array of lists. Each list contains the price of obs n_window + 1\n",
    "    \"\"\"\n",
    "    df = data_cleaning(crypto)\n",
    "    feature_column = df.columns.get_loc('index')\n",
    "    target_column = df.columns.get_loc('price')\n",
    "    X = []\n",
    "    y = []\n",
    "\n",
    "    for i in range(len(df) - window - 1):\n",
    "        features = df.iloc[i:(i + window), feature_column]\n",
    "        target = df.iloc[(i + window), target_column]\n",
    "        X.append(features)\n",
    "        y.append(target)\n",
    "\n",
    "    return np.array(X), np.array(y).reshape(-1, 1)"
   ]
  },
  {
   "cell_type": "code",
   "execution_count": null,
   "metadata": {},
   "outputs": [],
   "source": [
    "window_data()"
   ]
  },
  {
   "cell_type": "code",
   "execution_count": null,
   "metadata": {},
   "outputs": [],
   "source": [
    "def folds(crypto='BTC',window=10):\n",
    "    \"\"\" returns four arrays:\n",
    "    X_train : array of lists with the 70% of the observed feature values\n",
    "    X_test : array of lists with the 30% of the observed feature values\n",
    "    y_train : array of lists with the 70% of the observed target values\n",
    "    y_test : array of lists with the 30% of the observed target values\n",
    "    \"\"\"\n",
    "\n",
    "    X, y = window_data(crypto,window)\n",
    "    split = int(.7 * len(X))\n",
    "    X_train = X[:split - 1]\n",
    "    X_test = X[split:]\n",
    "\n",
    "    # y split\n",
    "    y_train = y[:split - 1]\n",
    "    y_test = y[split:]\n",
    "\n",
    "    return X_train,X_test,y_train,y_test"
   ]
  },
  {
   "cell_type": "code",
   "execution_count": null,
   "metadata": {},
   "outputs": [],
   "source": [
    "folds()"
   ]
  },
  {
   "cell_type": "code",
   "execution_count": null,
   "metadata": {},
   "outputs": [],
   "source": [
    "def scaling(crypto='BTC',window=10):\n",
    "    \"\"\" returns four arrays:\n",
    "    X_train_scaled : array of lists with the 70% of the observed feature values scaled,\n",
    "    X_test_scaled : array of lists with the 30% of the observed feature values scaled,\n",
    "    y_train_scaled : array of lists with the 70% of the observed target values scaled,\n",
    "    y_test_scaled : array of lists with the 30% of the observed target values scaled.\n",
    "    \"\"\"\n",
    "\n",
    "    scaler = StandardScaler()\n",
    "    X_train,X_test,y_train,y_test = folds(crypto,window)\n",
    "\n",
    "    X_train_scaled = scaler.fit_transform(X_train)\n",
    "    X_test_scaled = scaler.transform(X_test)\n",
    "\n",
    "    y_train_scaled = scaler.fit_transform(y_train)\n",
    "    y_test_scaled = scaler.transform(y_test)\n",
    "\n",
    "    return X_train_scaled,X_test_scaled,y_train_scaled,y_test_scaled"
   ]
  },
  {
   "cell_type": "code",
   "execution_count": null,
   "metadata": {},
   "outputs": [],
   "source": [
    "scaling()"
   ]
  },
  {
   "cell_type": "code",
   "execution_count": null,
   "metadata": {},
   "outputs": [],
   "source": [
    "def reshape(crypto='BTC',window=10):\n",
    "    X_train_scaled,X_test_scaled = scaling(crypto,window)[0],scaling(crypto,window)[1]\n",
    "    X_train = X_train_scaled.reshape((X_train_scaled.shape[0], X_train_scaled.shape[1], 1))\n",
    "    X_test = X_test_scaled.reshape((X_test_scaled.shape[0], X_test_scaled.shape[1], 1))\n",
    "    return X_train,X_test"
   ]
  },
  {
   "cell_type": "code",
   "execution_count": null,
   "metadata": {},
   "outputs": [],
   "source": [
    "X_train,X_test = reshape()"
   ]
  }
 ],
 "metadata": {
  "kernelspec": {
   "display_name": "Python 3.10.6 64-bit ('shims': pyenv)",
   "language": "python",
   "name": "python3"
  },
  "language_info": {
   "codemirror_mode": {
    "name": "ipython",
    "version": 3
   },
   "file_extension": ".py",
   "mimetype": "text/x-python",
   "name": "python",
   "nbconvert_exporter": "python",
   "pygments_lexer": "ipython3",
   "version": "3.10.6"
  },
  "orig_nbformat": 4,
  "vscode": {
   "interpreter": {
    "hash": "2a40968114b25fa8d3a93c08980097525b519b9ac7bac013b27e750825dc7185"
   }
  }
 },
 "nbformat": 4,
 "nbformat_minor": 2
}
