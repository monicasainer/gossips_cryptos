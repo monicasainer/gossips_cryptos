{
 "cells": [
  {
   "cell_type": "markdown",
   "id": "51545f7b",
   "metadata": {
    "slideshow": {
     "slide_type": "skip"
    }
   },
   "source": [
    "# Marks Notes"
   ]
  },
  {
   "cell_type": "code",
   "execution_count": 4,
   "id": "eb3100c6",
   "metadata": {},
   "outputs": [
    {
     "data": {
      "text/plain": [
       "{'data': {'AUD': 1.491238,\n",
       "  'BGN': 1.864876,\n",
       "  'BRL': 5.281559,\n",
       "  'CAD': 1.359075,\n",
       "  'CHF': 0.94251,\n",
       "  'CNY': 6.962087,\n",
       "  'CZK': 23.146603,\n",
       "  'DKK': 7.085729,\n",
       "  'EUR': 0.95271,\n",
       "  'GBP': 0.820257,\n",
       "  'HKD': 7.769365,\n",
       "  'HRK': 7.192161,\n",
       "  'HUF': 393.64059,\n",
       "  'IDR': 15520.684092,\n",
       "  'ILS': 3.401444,\n",
       "  'INR': 81.901695,\n",
       "  'ISK': 141.85152,\n",
       "  'JPY': 136.661513,\n",
       "  'KRW': 1305.383327,\n",
       "  'MXN': 19.736819,\n",
       "  'MYR': 4.369044,\n",
       "  'NOK': 9.946727,\n",
       "  'NZD': 1.58176,\n",
       "  'PHP': 56.03624,\n",
       "  'PLN': 4.489163,\n",
       "  'RON': 4.685132,\n",
       "  'RUB': 60.551375,\n",
       "  'SEK': 10.40846,\n",
       "  'SGD': 1.356629,\n",
       "  'THB': 35.050503,\n",
       "  'TRY': 18.629891,\n",
       "  'USD': 1,\n",
       "  'ZAR': 17.458546}}"
      ]
     },
     "execution_count": 4,
     "metadata": {},
     "output_type": "execute_result"
    }
   ],
   "source": [
    "# Finding a fitting currency conversion API (Based on USD) and requesting the data as a function\n",
    "\n",
    "import requests\n",
    "\n",
    "def currency_converter():\n",
    "\n",
    "    url = \"https://api.freecurrencyapi.com/v1/latest?apikey=j4YVbY4DsPe2bRdqchwWzvccCljEhg2EhlPyfrEN\"\n",
    "\n",
    "    response = requests.get(url).json()\n",
    "\n",
    "    return response\n",
    "\n",
    "currency_converter()"
   ]
  },
  {
   "cell_type": "code",
   "execution_count": null,
   "id": "1a3fcbd7",
   "metadata": {},
   "outputs": [],
   "source": []
  }
 ],
 "metadata": {
  "kernelspec": {
   "display_name": "Python 3.10.6 64-bit ('shims')",
   "language": "python",
   "name": "python3"
  },
  "language_info": {
   "codemirror_mode": {
    "name": "ipython",
    "version": 3
   },
   "file_extension": ".py",
   "mimetype": "text/x-python",
   "name": "python",
   "nbconvert_exporter": "python",
   "pygments_lexer": "ipython3",
   "version": "3.10.6"
  },
  "toc": {
   "base_numbering": 1,
   "nav_menu": {},
   "number_sections": true,
   "sideBar": true,
   "skip_h1_title": false,
   "title_cell": "Table of Contents",
   "title_sidebar": "Contents",
   "toc_cell": false,
   "toc_position": {},
   "toc_section_display": true,
   "toc_window_display": false
  },
  "varInspector": {
   "cols": {
    "lenName": 16,
    "lenType": 16,
    "lenVar": 40
   },
   "kernels_config": {
    "python": {
     "delete_cmd_postfix": "",
     "delete_cmd_prefix": "del ",
     "library": "var_list.py",
     "varRefreshCmd": "print(var_dic_list())"
    },
    "r": {
     "delete_cmd_postfix": ") ",
     "delete_cmd_prefix": "rm(",
     "library": "var_list.r",
     "varRefreshCmd": "cat(var_dic_list()) "
    }
   },
   "types_to_exclude": [
    "module",
    "function",
    "builtin_function_or_method",
    "instance",
    "_Feature"
   ],
   "window_display": false
  },
  "vscode": {
   "interpreter": {
    "hash": "4a9225598292894065c7d219eafdee9794119237b29c1475b2e297c8a8605901"
   }
  }
 },
 "nbformat": 4,
 "nbformat_minor": 5
}
