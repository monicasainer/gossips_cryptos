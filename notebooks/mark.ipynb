{
 "cells": [
  {
   "cell_type": "markdown",
   "id": "51545f7b",
   "metadata": {
    "slideshow": {
     "slide_type": "skip"
    }
   },
   "source": [
    "# Marks Notes"
   ]
  },
  {
   "cell_type": "code",
   "execution_count": 27,
   "id": "eb3100c6",
   "metadata": {},
   "outputs": [
    {
     "data": {
      "text/html": [
       "<div>\n",
       "<style scoped>\n",
       "    .dataframe tbody tr th:only-of-type {\n",
       "        vertical-align: middle;\n",
       "    }\n",
       "\n",
       "    .dataframe tbody tr th {\n",
       "        vertical-align: top;\n",
       "    }\n",
       "\n",
       "    .dataframe thead th {\n",
       "        text-align: right;\n",
       "    }\n",
       "</style>\n",
       "<table border=\"1\" class=\"dataframe\">\n",
       "  <thead>\n",
       "    <tr style=\"text-align: right;\">\n",
       "      <th></th>\n",
       "      <th>AUD</th>\n",
       "      <th>BGN</th>\n",
       "      <th>BRL</th>\n",
       "      <th>CAD</th>\n",
       "      <th>CHF</th>\n",
       "      <th>CNY</th>\n",
       "      <th>CZK</th>\n",
       "      <th>DKK</th>\n",
       "      <th>EUR</th>\n",
       "      <th>GBP</th>\n",
       "      <th>...</th>\n",
       "      <th>PHP</th>\n",
       "      <th>PLN</th>\n",
       "      <th>RON</th>\n",
       "      <th>RUB</th>\n",
       "      <th>SEK</th>\n",
       "      <th>SGD</th>\n",
       "      <th>THB</th>\n",
       "      <th>TRY</th>\n",
       "      <th>USD</th>\n",
       "      <th>ZAR</th>\n",
       "    </tr>\n",
       "  </thead>\n",
       "  <tbody>\n",
       "    <tr>\n",
       "      <th>0</th>\n",
       "      <td>1.491238</td>\n",
       "      <td>1.864876</td>\n",
       "      <td>5.281559</td>\n",
       "      <td>1.359075</td>\n",
       "      <td>0.94251</td>\n",
       "      <td>6.962087</td>\n",
       "      <td>23.146603</td>\n",
       "      <td>7.085729</td>\n",
       "      <td>0.95271</td>\n",
       "      <td>0.820257</td>\n",
       "      <td>...</td>\n",
       "      <td>56.03624</td>\n",
       "      <td>4.489163</td>\n",
       "      <td>4.685132</td>\n",
       "      <td>60.551375</td>\n",
       "      <td>10.40846</td>\n",
       "      <td>1.356629</td>\n",
       "      <td>35.050503</td>\n",
       "      <td>18.629891</td>\n",
       "      <td>1</td>\n",
       "      <td>17.458546</td>\n",
       "    </tr>\n",
       "  </tbody>\n",
       "</table>\n",
       "<p>1 rows × 33 columns</p>\n",
       "</div>"
      ],
      "text/plain": [
       "        AUD       BGN       BRL       CAD      CHF       CNY        CZK  \\\n",
       "0  1.491238  1.864876  5.281559  1.359075  0.94251  6.962087  23.146603   \n",
       "\n",
       "        DKK      EUR       GBP  ...       PHP       PLN       RON        RUB  \\\n",
       "0  7.085729  0.95271  0.820257  ...  56.03624  4.489163  4.685132  60.551375   \n",
       "\n",
       "        SEK       SGD        THB        TRY  USD        ZAR  \n",
       "0  10.40846  1.356629  35.050503  18.629891    1  17.458546  \n",
       "\n",
       "[1 rows x 33 columns]"
      ]
     },
     "execution_count": 27,
     "metadata": {},
     "output_type": "execute_result"
    }
   ],
   "source": [
    "# Finding a fitting currency conversion API (Based on USD) and requesting the data as a function\n",
    "\n",
    "import requests\n",
    "import pandas as pd\n",
    "\n",
    "def currency_converter():\n",
    "\n",
    "    APIkey = \"j4YVbY4DsPe2bRdqchwWzvccCljEhg2EhlPyfrEN\"\n",
    "\n",
    "    url = f\"https://api.freecurrencyapi.com/v1/latest?apikey={APIkey}\"\n",
    "\n",
    "    response = requests.get(url).json()\n",
    "    \n",
    "    df = pd.DataFrame(response['data'], index=[0])\n",
    "\n",
    "    return df\n",
    "\n",
    "currency_converter()"
   ]
  }
 ],
 "metadata": {
  "kernelspec": {
   "display_name": "Python 3.10.6 64-bit ('shims')",
   "language": "python",
   "name": "python3"
  },
  "language_info": {
   "codemirror_mode": {
    "name": "ipython",
    "version": 3
   },
   "file_extension": ".py",
   "mimetype": "text/x-python",
   "name": "python",
   "nbconvert_exporter": "python",
   "pygments_lexer": "ipython3",
   "version": "3.10.6"
  },
  "toc": {
   "base_numbering": 1,
   "nav_menu": {},
   "number_sections": true,
   "sideBar": true,
   "skip_h1_title": false,
   "title_cell": "Table of Contents",
   "title_sidebar": "Contents",
   "toc_cell": false,
   "toc_position": {},
   "toc_section_display": true,
   "toc_window_display": false
  },
  "varInspector": {
   "cols": {
    "lenName": 16,
    "lenType": 16,
    "lenVar": 40
   },
   "kernels_config": {
    "python": {
     "delete_cmd_postfix": "",
     "delete_cmd_prefix": "del ",
     "library": "var_list.py",
     "varRefreshCmd": "print(var_dic_list())"
    },
    "r": {
     "delete_cmd_postfix": ") ",
     "delete_cmd_prefix": "rm(",
     "library": "var_list.r",
     "varRefreshCmd": "cat(var_dic_list()) "
    }
   },
   "types_to_exclude": [
    "module",
    "function",
    "builtin_function_or_method",
    "instance",
    "_Feature"
   ],
   "window_display": false
  },
  "vscode": {
   "interpreter": {
    "hash": "4a9225598292894065c7d219eafdee9794119237b29c1475b2e297c8a8605901"
   }
  }
 },
 "nbformat": 4,
 "nbformat_minor": 5
}
